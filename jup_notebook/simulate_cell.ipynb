{
 "cells": [
  {
   "cell_type": "code",
   "execution_count": null,
   "id": "f04c441b",
   "metadata": {},
   "outputs": [],
   "source": [
    "import pandas as pd\n",
    "import numpy as np\n",
    "from numpy.polynomial import Polynomial as Poly\n",
    "\n",
    "from jupyterplot import ProgressPlot as PP\n",
    "\n",
    "from jupyter_sim import *\n",
    "\n",
    "%reload_ext autoreload\n",
    "%autoreload 2"
   ]
  },
  {
   "cell_type": "code",
   "execution_count": null,
   "id": "364ae8a9",
   "metadata": {},
   "outputs": [],
   "source": [
    "data = pd.read_csv(\"params.csv\", index_col=\"soc\")\n",
    "data.head()"
   ]
  },
  {
   "cell_type": "code",
   "execution_count": null,
   "id": "32758d20",
   "metadata": {},
   "outputs": [],
   "source": [
    "capacity = 18.254\n",
    "min_I = -14.0\n",
    "max_I = 14.0\n",
    "assert(abs(min_I) < capacity / 1.2)\n",
    "assert(abs(max_I) < capacity / 1.2)\n",
    "current = np.array((max_I - min_I) * np.random.random_sample(24) + min_I).round(2)\n",
    "#random list of values between min_I and max_I\n",
    "\n",
    "ocv = [3.557, 3.394, 3.384, 3.363, 3.294, 3.291, 3.282, 3.258, 3.224, 3.174, 2.450]\n",
    "ocv_nmc = [4.090, 3.993, 3.893, 3.798, 3.734, 3.687, 3.649, 3.604, 3.552, 3.490, 2.800]\n",
    "r_int = 0.0023\n",
    "r_1 = 0.0027\n",
    "r_2 = 0.0021\n",
    "c_1 = 12000\n",
    "c_2 = 120000\n",
    "\n",
    "# df_sim = simulate(capacity, current, data=data)\n",
    "df_sim = simulate(capacity, current,\n",
    "                  ocv = ocv,\n",
    "                  r_int = r_int,\n",
    "                  r_1 = r_1,\n",
    "                  r_2 = r_2,\n",
    "                  c_1 = c_1,\n",
    "                  c_2 = c_2\n",
    "                 )"
   ]
  }
 ],
 "metadata": {
  "kernelspec": {
   "display_name": "Python 3 (ipykernel)",
   "language": "python",
   "name": "python3"
  },
  "language_info": {
   "codemirror_mode": {
    "name": "ipython",
    "version": 3
   },
   "file_extension": ".py",
   "mimetype": "text/x-python",
   "name": "python",
   "nbconvert_exporter": "python",
   "pygments_lexer": "ipython3",
   "version": "3.10.5"
  }
 },
 "nbformat": 4,
 "nbformat_minor": 5
}
