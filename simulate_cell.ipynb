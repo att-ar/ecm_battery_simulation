{
 "cells": [
  {
   "cell_type": "code",
   "execution_count": null,
   "id": "f04c441b",
   "metadata": {},
   "outputs": [],
   "source": [
    "import pandas as pd\n",
    "import numpy as np\n",
    "from numpy.polynomial import Polynomial as Poly\n",
    "\n",
    "from jupyterplot import ProgressPlot as PP\n",
    "\n",
    "from jupyter_sim import *\n",
    "\n",
    "%reload_ext autoreload\n",
    "%autoreload 2"
   ]
  },
  {
   "cell_type": "code",
   "execution_count": null,
   "id": "364ae8a9",
   "metadata": {},
   "outputs": [],
   "source": [
    "data = pd.read_csv(\"params.csv\", index_col=\"soc\")\n",
    "data.head()"
   ]
  },
  {
   "cell_type": "code",
   "execution_count": null,
   "id": "32758d20",
   "metadata": {},
   "outputs": [],
   "source": [
    "capacity = 2.36\n",
    "min_I = -0.46\n",
    "max_I = 0.46\n",
    "assert(abs(min_I) < capacity / 5)\n",
    "assert(abs(max_I) < capacity / 5)\n",
    "current = np.array((max_I - min_I) * np.random.random_sample(24) + min_I).round(2)\n",
    "#random list of values between min_I and max_I\n",
    "\n",
    "df_sim = simulate(2.36, current, data=data)"
   ]
  }
 ],
 "metadata": {
  "kernelspec": {
   "display_name": "Python 3 (ipykernel)",
   "language": "python",
   "name": "python3"
  },
  "language_info": {
   "codemirror_mode": {
    "name": "ipython",
    "version": 3
   },
   "file_extension": ".py",
   "mimetype": "text/x-python",
   "name": "python",
   "nbconvert_exporter": "python",
   "pygments_lexer": "ipython3",
   "version": "3.10.5"
  }
 },
 "nbformat": 4,
 "nbformat_minor": 5
}
